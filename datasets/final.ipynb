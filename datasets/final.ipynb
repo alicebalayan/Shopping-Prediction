{
 "metadata": {
  "language_info": {
   "codemirror_mode": {
    "name": "ipython",
    "version": 3
   },
   "file_extension": ".py",
   "mimetype": "text/x-python",
   "name": "python",
   "nbconvert_exporter": "python",
   "pygments_lexer": "ipython3",
   "version": "3.8.5"
  },
  "orig_nbformat": 2,
  "kernelspec": {
   "name": "python385jvsc74a57bd0b3ba2566441a7c06988d0923437866b63cedc61552a5af99d1f4fb67d367b25f",
   "display_name": "Python 3.8.5 64-bit ('base': conda)"
  },
  "metadata": {
   "interpreter": {
    "hash": "3f5bb76ae657effe205a4054b2f0e79f03f97aa9fe6072a24dcf67bb114077a9"
   }
  }
 },
 "nbformat": 4,
 "nbformat_minor": 2,
 "cells": [
  {
   "cell_type": "code",
   "execution_count": 1,
   "metadata": {},
   "outputs": [
    {
     "output_type": "execute_result",
     "data": {
      "text/plain": [
       "(3, 3)"
      ]
     },
     "metadata": {},
     "execution_count": 1
    }
   ],
   "source": [
    "import numpy as np\n",
    "\n",
    "K=np.array([[0.2, 0.6, 0.2],\n",
    "              [0.3, 0, 0.7],\n",
    "              [0.5, 0, 0.5]])\n",
    "\n",
    "eigenvalues, eigenvectors = np.linalg.eig(K)\n",
    "\n",
    "# array([[ 0.83022467+0.j        ,  0.83022467+0.j        ],\n",
    "#        [ 0.09133956+0.54989461j,  0.09133956-0.54989461j]])\n",
    "\n",
    "eigenvectors.shape"
   ]
  },
  {
   "cell_type": "code",
   "execution_count": 2,
   "metadata": {},
   "outputs": [
    {
     "output_type": "execute_result",
     "data": {
      "text/plain": [
       "array([[-0.57735027+0.j        ,  0.70597631+0.j        ,\n",
       "         0.70597631-0.j        ],\n",
       "       [-0.57735027+0.j        , -0.26474112+0.4380559j ,\n",
       "        -0.26474112-0.4380559j ],\n",
       "       [-0.57735027+0.j        , -0.4412352 -0.21196253j,\n",
       "        -0.4412352 +0.21196253j]])"
      ]
     },
     "metadata": {},
     "execution_count": 2
    }
   ],
   "source": [
    "eigenvectors"
   ]
  },
  {
   "cell_type": "code",
   "execution_count": 11,
   "metadata": {},
   "outputs": [
    {
     "output_type": "execute_result",
     "data": {
      "text/plain": [
       "array([ 1.  +0.j       , -0.15+0.3122499j, -0.15-0.3122499j])"
      ]
     },
     "metadata": {},
     "execution_count": 11
    }
   ],
   "source": [
    "eigenvalues"
   ]
  },
  {
   "cell_type": "code",
   "execution_count": 20,
   "metadata": {},
   "outputs": [],
   "source": [
    "import scipy.linalg as la\n",
    "\n",
    "K=np.array([[0.2, 0.6, 0.2],\n",
    "              [0.3, 0, 0.7],\n",
    "              [0.5, 0, 0.5]])\n",
    "w,vl,vr = la.eig(K,left=True)\n",
    "\n"
   ]
  },
  {
   "cell_type": "code",
   "execution_count": 16,
   "metadata": {},
   "outputs": [
    {
     "output_type": "execute_result",
     "data": {
      "text/plain": [
       "array([[-0.58746336+0.j        , -0.16984156-0.35355339j,\n",
       "        -0.16984156+0.35355339j],\n",
       "       [-0.35247801+0.j        ,  0.67936622+0.j        ,\n",
       "         0.67936622-0.j        ],\n",
       "       [-0.72845456+0.j        , -0.50952467+0.35355339j,\n",
       "        -0.50952467-0.35355339j]])"
      ]
     },
     "metadata": {},
     "execution_count": 16
    }
   ],
   "source": [
    "vl"
   ]
  },
  {
   "cell_type": "code",
   "execution_count": 17,
   "metadata": {},
   "outputs": [
    {
     "output_type": "execute_result",
     "data": {
      "text/plain": [
       "array([[-0.57735027+0.j        ,  0.70597631+0.j        ,\n",
       "         0.70597631-0.j        ],\n",
       "       [-0.57735027+0.j        , -0.26474112+0.4380559j ,\n",
       "        -0.26474112-0.4380559j ],\n",
       "       [-0.57735027+0.j        , -0.4412352 -0.21196253j,\n",
       "        -0.4412352 +0.21196253j]])"
      ]
     },
     "metadata": {},
     "execution_count": 17
    }
   ],
   "source": [
    "vr"
   ]
  },
  {
   "cell_type": "code",
   "execution_count": 18,
   "metadata": {},
   "outputs": [
    {
     "output_type": "execute_result",
     "data": {
      "text/plain": [
       "array([ 1.  +0.j       , -0.15+0.3122499j, -0.15-0.3122499j])"
      ]
     },
     "metadata": {},
     "execution_count": 18
    }
   ],
   "source": [
    "w"
   ]
  },
  {
   "cell_type": "code",
   "execution_count": 23,
   "metadata": {},
   "outputs": [
    {
     "output_type": "execute_result",
     "data": {
      "text/plain": [
       "array([[0.3, 0. , 0.7]])"
      ]
     },
     "metadata": {},
     "execution_count": 23
    }
   ],
   "source": [
    "A=np.array([[0.2, 0.6, 0.2],\n",
    "              [0.3, 0, 0.7],\n",
    "              [0.5, 0, 0.5]])\n",
    "B=np.array([[0,1,0]])\n",
    "result = np.dot(B,A)"
   ]
  },
  {
   "cell_type": "code",
   "execution_count": 30,
   "metadata": {},
   "outputs": [],
   "source": [
    "import scipy.linalg as la\n",
    "\n",
    "K=np.array([[0.2, 0.6, 0.2],\n",
    "              [0.3, 0, 0.7],\n",
    "              [0.5, 0, 0.5]])\n",
    "np.dot(K,v[:,0])\n",
    "w,v = la.eig(K)"
   ]
  },
  {
   "cell_type": "code",
   "execution_count": 31,
   "metadata": {},
   "outputs": [
    {
     "output_type": "execute_result",
     "data": {
      "text/plain": [
       "array([ 1.  +0.j       , -0.15+0.3122499j, -0.15-0.3122499j])"
      ]
     },
     "metadata": {},
     "execution_count": 31
    }
   ],
   "source": [
    "w"
   ]
  },
  {
   "cell_type": "code",
   "execution_count": 32,
   "metadata": {},
   "outputs": [
    {
     "output_type": "execute_result",
     "data": {
      "text/plain": [
       "array([[-0.57735027+0.j        ,  0.70597631+0.j        ,\n",
       "         0.70597631-0.j        ],\n",
       "       [-0.57735027+0.j        , -0.26474112+0.4380559j ,\n",
       "        -0.26474112-0.4380559j ],\n",
       "       [-0.57735027+0.j        , -0.4412352 -0.21196253j,\n",
       "        -0.4412352 +0.21196253j]])"
      ]
     },
     "metadata": {},
     "execution_count": 32
    }
   ],
   "source": [
    "v"
   ]
  },
  {
   "cell_type": "code",
   "execution_count": 33,
   "metadata": {},
   "outputs": [
    {
     "output_type": "stream",
     "name": "stdout",
     "text": [
      "0.9999999999999999\n"
     ]
    }
   ],
   "source": [
    "print(np.linalg.norm(v[:,0]))"
   ]
  },
  {
   "cell_type": "code",
   "execution_count": 35,
   "metadata": {},
   "outputs": [
    {
     "output_type": "stream",
     "name": "stdout",
     "text": [
      "True\n"
     ]
    }
   ],
   "source": [
    "print(np.allclose(np.dot(A,v[:,0]),np.dot(w[0],v[:,0])))"
   ]
  },
  {
   "cell_type": "code",
   "execution_count": 36,
   "metadata": {},
   "outputs": [
    {
     "output_type": "stream",
     "name": "stdout",
     "text": [
      "0.9999999999999999\n1.0000000000000002\n"
     ]
    }
   ],
   "source": [
    "print(np.linalg.norm(v[:,0]))\n",
    "print(np.linalg.norm(v[:,1]))"
   ]
  },
  {
   "cell_type": "code",
   "execution_count": null,
   "metadata": {},
   "outputs": [],
   "source": [
    "A=np.array([[0.2, 0.6, 0.2],\n",
    "              [0.3, 0, 0.7],\n",
    "              [0.5, 0, 0.5]])\n",
    "pi=np.array([[0,1,0]])\n",
    "\n",
    "\n",
    "result = np.dot(pi,A)"
   ]
  },
  {
   "cell_type": "code",
   "execution_count": 8,
   "metadata": {},
   "outputs": [
    {
     "output_type": "stream",
     "name": "stdout",
     "text": [
      "[[ 0.535  0.707  0.353]\n [-0.802  0.     0.442]\n [ 0.267 -0.707  0.825]]\n"
     ]
    }
   ],
   "source": [
    "import scipy.linalg as la\n",
    "\n",
    "K=np.array([[0.5, 0.3, 0.2],\n",
    "              [0.4, 0.2, 0.4],\n",
    "              [0, 0.3, 0.7]])\n",
    "w,vl,vr = la.eig(K,left=True)\n",
    "np.set_printoptions(suppress=True)\n",
    "print(np.array(vl))"
   ]
  },
  {
   "cell_type": "code",
   "execution_count": 4,
   "metadata": {},
   "outputs": [
    {
     "output_type": "execute_result",
     "data": {
      "text/plain": [
       "array([[ 0.33129458,  0.78039897,  0.57735027],\n",
       "       [-0.88345221,  0.34684399,  0.57735027],\n",
       "       [ 0.33129458, -0.52026598,  0.57735027]])"
      ]
     },
     "metadata": {},
     "execution_count": 4
    }
   ],
   "source": [
    "vr"
   ]
  },
  {
   "cell_type": "code",
   "execution_count": 10,
   "metadata": {},
   "outputs": [
    {
     "output_type": "stream",
     "name": "stdout",
     "text": [
      "[-0.1+0.j  0.5+0.j  1. +0.j]\n"
     ]
    }
   ],
   "source": [
    "print(np.array(w))"
   ]
  },
  {
   "cell_type": "code",
   "execution_count": null,
   "metadata": {},
   "outputs": [],
   "source": []
  }
 ]
}